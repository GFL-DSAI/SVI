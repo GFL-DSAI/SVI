{
 "cells": [
  {
   "cell_type": "code",
   "execution_count": 13,
   "metadata": {
    "scrolled": true
   },
   "outputs": [
    {
     "name": "stdout",
     "output_type": "stream",
     "text": [
      "      STATEFP PLACEFP   PLACENS    GEOID                    NAME  \\\n",
      "0          01   02260  02405163  0102260                 Ardmore   \n",
      "1          01   51264  02406188  0151264             Mooresville   \n",
      "2          01   71496  02407365  0171496              Somerville   \n",
      "3          01   76872  02406755  0176872                 Trinity   \n",
      "4          01   30880  02406594  0130880                  Goshen   \n",
      "...       ...     ...       ...      ...                     ...   \n",
      "32183      78   27000  02651573  7827000               Coral Bay   \n",
      "32184      78   28000  02414009  7828000                Cruz Bay   \n",
      "32185      78   39700  02414020  7839700  Frederiksted Southeast   \n",
      "32186      78   65530  02651575  7865530                Red Hook   \n",
      "32187      78   78300  02413996  7878300                    Tutu   \n",
      "\n",
      "                         NAMELSAD LSAD CLASSFP PCICBSA PCINECTA  MTFCC  \\\n",
      "0                    Ardmore town   43      C1       N        N  G4110   \n",
      "1                Mooresville town   43      C1       N        N  G4110   \n",
      "2                 Somerville town   43      C1       N        N  G4110   \n",
      "3                    Trinity town   43      C1       N        N  G4110   \n",
      "4                     Goshen town   43      C1       N        N  G4110   \n",
      "...                           ...  ...     ...     ...      ...    ...   \n",
      "32183               Coral Bay CDP   57      U1       N        N  G4210   \n",
      "32184                Cruz Bay CDP   57      U1       N        N  G4210   \n",
      "32185  Frederiksted Southeast CDP   57      U2       N        N  G4210   \n",
      "32186                Red Hook CDP   57      U2       N        N  G4210   \n",
      "32187                    Tutu CDP   57      U1       N        N  G4210   \n",
      "\n",
      "      FUNCSTAT     ALAND   AWATER     INTPTLAT      INTPTLON  \\\n",
      "0            A   5289895    21830  +34.9878376  -086.8290225   \n",
      "1            A    646347   125569  +34.6258825  -086.8800251   \n",
      "2            A   8895669    12005  +34.4670528  -086.7912026   \n",
      "3            A  12861624    20185  +34.5974448  -087.0813543   \n",
      "4            A   6634644    40200  +31.7200150  -086.1232453   \n",
      "...        ...       ...      ...          ...           ...   \n",
      "32183        S   4742478   975010  +18.3451896  -064.7172899   \n",
      "32184        S   7828060  2463942  +18.3237480  -064.7797895   \n",
      "32185        S   2617382        0  +17.7030250  -064.8763337   \n",
      "32186        S    733480   716140  +18.3246120  -064.8412258   \n",
      "32187        S   4235909    28670  +18.3390198  -064.8885716   \n",
      "\n",
      "                                                geometry  \n",
      "0      POLYGON ((-86.85669 34.99205, -86.85535 34.992...  \n",
      "1      POLYGON ((-86.88479 34.63009, -86.88473 34.630...  \n",
      "2      MULTIPOLYGON (((-86.75696 34.44604, -86.75686 ...  \n",
      "3      MULTIPOLYGON (((-87.05407 34.59983, -87.05407 ...  \n",
      "4      POLYGON ((-86.13707 31.72739, -86.13669 31.727...  \n",
      "...                                                  ...  \n",
      "32183  POLYGON ((-64.73261 18.35237, -64.73247 18.352...  \n",
      "32184  POLYGON ((-64.79981 18.32660, -64.79979 18.326...  \n",
      "32185  POLYGON ((-64.88568 17.70194, -64.88555 17.702...  \n",
      "32186  POLYGON ((-64.85759 18.32304, -64.85560 18.325...  \n",
      "32187  POLYGON ((-64.90364 18.34551, -64.90362 18.345...  \n",
      "\n",
      "[32188 rows x 17 columns]\n"
     ]
    }
   ],
   "source": [
    "import os\n",
    "import pandas as pd\n",
    "import geopandas as gpd\n",
    "\n",
    "# Directory path where the zip files are located\n",
    "directory = 'C:/Users/Praveenaa/Desktop/Resilience/census'\n",
    "\n",
    "# Initialize an empty list to store the geopandas dataframes\n",
    "gdfs = []\n",
    "\n",
    "# Iterate over each file in the directory\n",
    "for filename in os.listdir(directory):\n",
    "    if filename.endswith('.zip'):\n",
    "        filepath = os.path.join(directory, filename)\n",
    "        gdf = gpd.read_file(f\"zip://{filepath}\")\n",
    "        gdfs.append(gdf)\n",
    "\n",
    "# Concatenate all the geopandas dataframes into one\n",
    "combined_gdf = gpd.GeoDataFrame(pd.concat(gdfs, ignore_index=True), crs=gdf.crs)\n",
    "\n",
    "# Display the combined geopandas dataframe\n",
    "print(combined_gdf)\n",
    "\n"
   ]
  },
  {
   "cell_type": "code",
   "execution_count": 15,
   "metadata": {},
   "outputs": [
    {
     "name": "stdout",
     "output_type": "stream",
     "text": [
      "     STATEFP PLACEFP   PLACENS    GEOID     NAME     NAMELSAD LSAD CLASSFP  \\\n",
      "1259      04   53560  02409038  0453560  Paulden  Paulden CDP   57      U1   \n",
      "\n",
      "     PCICBSA PCINECTA  MTFCC FUNCSTAT      ALAND  AWATER     INTPTLAT  \\\n",
      "1259       N        N  G4210        S  148129005       0  +34.8896950   \n",
      "\n",
      "          INTPTLON                                           geometry  \n",
      "1259  -112.4936966  POLYGON ((-112.59414 34.95001, -112.59414 34.9...  \n"
     ]
    }
   ],
   "source": [
    "# Search for a specific name\n",
    "search_name = \"Paulden CDP\"\n",
    "\n",
    "# Boolean indexing to filter rows matching the search name\n",
    "filtered_gdf = combined_gdf[combined_gdf[\"NAMELSAD\"] == search_name]\n",
    "\n",
    "# Display the filtered geopandas dataframe\n",
    "print(filtered_gdf)\n"
   ]
  },
  {
   "cell_type": "code",
   "execution_count": 16,
   "metadata": {},
   "outputs": [],
   "source": [
    "# Save the geopandas dataframe to the US Census format (shapefile)\n",
    "output_path = 'C:/Users/Praveenaa/Desktop/Resilience/census/combined_shp'\n",
    "combined_gdf.to_file(output_path, driver='ESRI Shapefile')"
   ]
  },
  {
   "cell_type": "code",
   "execution_count": null,
   "metadata": {},
   "outputs": [],
   "source": []
  }
 ],
 "metadata": {
  "kernelspec": {
   "display_name": "Python 3",
   "language": "python",
   "name": "python3"
  },
  "language_info": {
   "codemirror_mode": {
    "name": "ipython",
    "version": 3
   },
   "file_extension": ".py",
   "mimetype": "text/x-python",
   "name": "python",
   "nbconvert_exporter": "python",
   "pygments_lexer": "ipython3",
   "version": "3.8.5"
  }
 },
 "nbformat": 4,
 "nbformat_minor": 4
}
