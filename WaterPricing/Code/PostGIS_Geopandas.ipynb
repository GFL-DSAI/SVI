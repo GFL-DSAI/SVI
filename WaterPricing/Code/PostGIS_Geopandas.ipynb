{
 "cells": [
  {
   "cell_type": "code",
   "execution_count": 1,
   "metadata": {},
   "outputs": [
    {
     "name": "stdout",
     "output_type": "stream",
     "text": [
      "Requirement already satisfied: geopandas in c:\\users\\praveenaa\\anaconda3\\lib\\site-packages (0.13.0)\n",
      "Collecting psycopg2\n",
      "Note: you may need to restart the kernel to use updated packages.  Downloading psycopg2-2.9.6-cp38-cp38-win_amd64.whl (1.2 MB)\n",
      "Requirement already satisfied: pandas>=1.1.0 in c:\\users\\praveenaa\\anaconda3\\lib\\site-packages (from geopandas) (1.1.3)\n",
      "Requirement already satisfied: fiona>=1.8.19 in c:\\users\\praveenaa\\anaconda3\\lib\\site-packages (from geopandas) (1.9.4)\n",
      "Requirement already satisfied: pyproj>=3.0.1 in c:\\users\\praveenaa\\anaconda3\\lib\\site-packages (from geopandas) (3.5.0)\n",
      "Requirement already satisfied: packaging in c:\\users\\praveenaa\\anaconda3\\lib\\site-packages (from geopandas) (20.4)\n",
      "Requirement already satisfied: shapely>=1.7.1 in c:\\users\\praveenaa\\anaconda3\\lib\\site-packages (from geopandas) (2.0.1)\n",
      "Requirement already satisfied: python-dateutil>=2.7.3 in c:\\users\\praveenaa\\anaconda3\\lib\\site-packages (from pandas>=1.1.0->geopandas) (2.8.1)\n",
      "Requirement already satisfied: numpy>=1.15.4 in c:\\users\\praveenaa\\anaconda3\\lib\\site-packages (from pandas>=1.1.0->geopandas) (1.19.2)\n",
      "Requirement already satisfied: pytz>=2017.2 in c:\\users\\praveenaa\\anaconda3\\lib\\site-packages (from pandas>=1.1.0->geopandas) (2020.1)\n",
      "Requirement already satisfied: cligj>=0.5 in c:\\users\\praveenaa\\anaconda3\\lib\\site-packages (from fiona>=1.8.19->geopandas) (0.7.2)\n",
      "Requirement already satisfied: click~=8.0 in c:\\users\\praveenaa\\anaconda3\\lib\\site-packages (from fiona>=1.8.19->geopandas) (8.1.3)\n",
      "Requirement already satisfied: six in c:\\users\\praveenaa\\anaconda3\\lib\\site-packages (from fiona>=1.8.19->geopandas) (1.15.0)\n",
      "Requirement already satisfied: certifi in c:\\users\\praveenaa\\anaconda3\\lib\\site-packages (from fiona>=1.8.19->geopandas) (2023.5.7)\n",
      "\n",
      "Requirement already satisfied: attrs>=19.2.0 in c:\\users\\praveenaa\\anaconda3\\lib\\site-packages (from fiona>=1.8.19->geopandas) (20.3.0)\n",
      "Requirement already satisfied: click-plugins>=1.0 in c:\\users\\praveenaa\\anaconda3\\lib\\site-packages (from fiona>=1.8.19->geopandas) (1.1.1)\n",
      "Requirement already satisfied: importlib-metadata; python_version < \"3.10\" in c:\\users\\praveenaa\\anaconda3\\lib\\site-packages (from fiona>=1.8.19->geopandas) (2.0.0)\n",
      "Requirement already satisfied: pyparsing>=2.0.2 in c:\\users\\praveenaa\\anaconda3\\lib\\site-packages (from packaging->geopandas) (2.4.7)\n",
      "Requirement already satisfied: colorama; platform_system == \"Windows\" in c:\\users\\praveenaa\\anaconda3\\lib\\site-packages (from click~=8.0->fiona>=1.8.19->geopandas) (0.4.4)\n",
      "Requirement already satisfied: zipp>=0.5 in c:\\users\\praveenaa\\anaconda3\\lib\\site-packages (from importlib-metadata; python_version < \"3.10\"->fiona>=1.8.19->geopandas) (3.4.0)\n",
      "Installing collected packages: psycopg2\n",
      "Successfully installed psycopg2-2.9.6\n"
     ]
    }
   ],
   "source": [
    "pip install geopandas psycopg2"
   ]
  },
  {
   "cell_type": "code",
   "execution_count": null,
   "metadata": {},
   "outputs": [],
   "source": []
  }
 ],
 "metadata": {
  "kernelspec": {
   "display_name": "Python 3",
   "language": "python",
   "name": "python3"
  },
  "language_info": {
   "codemirror_mode": {
    "name": "ipython",
    "version": 3
   },
   "file_extension": ".py",
   "mimetype": "text/x-python",
   "name": "python",
   "nbconvert_exporter": "python",
   "pygments_lexer": "ipython3",
   "version": "3.8.5"
  }
 },
 "nbformat": 4,
 "nbformat_minor": 4
}
